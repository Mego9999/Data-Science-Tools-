{
 "cells": [
  {
   "cell_type": "markdown",
   "id": "c861d166-a5c8-41a2-a75c-a37225b61954",
   "metadata": {},
   "source": [
    "# Data Science Tools and Ecosystem"
   ]
  },
  {
   "cell_type": "markdown",
   "id": "f2616061-ae7a-4f63-b252-f7da5702e810",
   "metadata": {},
   "source": [
    "In this notebook, Data Science Tools and Ecosystem are summarized."
   ]
  },
  {
   "cell_type": "markdown",
   "id": "79fd52ee-18a8-49fb-aef1-21cd49ce19ac",
   "metadata": {},
   "source": [
    "Some of the popular languages that Data Scientists use are:\n",
    "1. python\n",
    "2. R\n",
    "3. sql\n",
    "4. Java\n",
    "5. Scala\n",
    "6. Matlab"
   ]
  },
  {
   "cell_type": "markdown",
   "id": "b6d792bf-761b-4cc7-af6c-eeaad9d37029",
   "metadata": {},
   "source": [
    "Some of the commonly used libraries used by Data Scientists include:\n",
    "\n",
    "1. Pandas\n",
    "2. NumPy\n",
    "3. Matplotlib\n",
    "4. Scikit-learn\n",
    "5. TensorFlow\n",
    "6. Seaborn\n"
   ]
  },
  {
   "cell_type": "markdown",
   "id": "886a6183-422b-4b6e-ae77-c65e4a9c6bee",
   "metadata": {},
   "source": [
    "| Data Science Tools |\n",
    "|--------------------|\n",
    "| Jupyter Notebook   |\n",
    "| RStudio            |\n",
    "| Apache Spark    |\n"
   ]
  },
  {
   "cell_type": "markdown",
   "id": "1768af03-a88e-4f57-b98b-e775d9282058",
   "metadata": {},
   "source": [
    "# Below are a few examples of evaluating arithmetic expressions in Python.\n"
   ]
  },
  {
   "cell_type": "code",
   "execution_count": 3,
   "id": "4bbaa398-9dd1-44cc-9044-f0ac7eb844d0",
   "metadata": {},
   "outputs": [
    {
     "data": {
      "text/plain": [
       "17"
      ]
     },
     "execution_count": 3,
     "metadata": {},
     "output_type": "execute_result"
    }
   ],
   "source": [
    "# This is a simple arithmetic expression to multiply then add integers\n",
    "result = (3 * 4) + 5\n",
    "result\n"
   ]
  },
  {
   "cell_type": "code",
   "execution_count": 5,
   "id": "6ad6b196-2a80-4eca-9136-d9972fee2f9b",
   "metadata": {},
   "outputs": [
    {
     "data": {
      "text/plain": [
       "3.3333333333333335"
      ]
     },
     "execution_count": 5,
     "metadata": {},
     "output_type": "execute_result"
    }
   ],
   "source": [
    "# This will convert 200 minutes to hours by dividing by 60\n",
    "hours = 200 / 60\n",
    "hours"
   ]
  },
  {
   "cell_type": "markdown",
   "id": "89f4b090-3bfd-4194-8947-5577c6b59246",
   "metadata": {},
   "source": [
    "**Objectives:**\n",
    "\n",
    "- List popular languages for Data Science\n",
    "- List commonly used libraries for Data Science\n",
    "- Display a table of Data Science tools\n",
    "- Evaluate simple arithmetic expressions in Python\n",
    "- Convert minutes to hours\n"
   ]
  },
  {
   "cell_type": "markdown",
   "id": "7e8f3ca0-0b5d-4c8e-ab37-39573c02868a",
   "metadata": {},
   "source": [
    "## Author\n",
    "Muhammed Megahed"
   ]
  },
  {
   "cell_type": "code",
   "execution_count": null,
   "id": "a30d1e3d-1839-4eb3-a659-2f8ef5ab724e",
   "metadata": {},
   "outputs": [],
   "source": []
  }
 ],
 "metadata": {
  "kernelspec": {
   "display_name": "Python 3 (ipykernel)",
   "language": "python",
   "name": "python3"
  },
  "language_info": {
   "codemirror_mode": {
    "name": "ipython",
    "version": 3
   },
   "file_extension": ".py",
   "mimetype": "text/x-python",
   "name": "python",
   "nbconvert_exporter": "python",
   "pygments_lexer": "ipython3",
   "version": "3.12.3"
  }
 },
 "nbformat": 4,
 "nbformat_minor": 5
}
